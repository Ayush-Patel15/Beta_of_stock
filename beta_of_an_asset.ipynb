{
 "cells": [
  {
   "cell_type": "markdown",
   "metadata": {},
   "source": [
    "## Understanding Beta of an Asset\n",
    "\n",
    "- Author: Ayush Patel\n",
    "- Github: https://github.com/Ayush-Patel15 \n",
    "- LinkedIn: https://www.linkedin.com/in/ayush-15-patel/\n",
    "- Gmail: patelayushap1512@gmail.com"
   ]
  },
  {
   "cell_type": "markdown",
   "metadata": {},
   "source": [
    "### What is Beta of a Stock (β) \n",
    "\n",
    "Beta is a measure of volatility of a stock in relation to the volatility of the overall market. It is a concept that measures the expected move in the stock relative to movements in the overall market. It is used as a measure of risk and is an integral part of the Capital Asset Pricing Model (CAPM). A company with a higher beta has greater risk and also greater expected returns.\n",
    "\n",
    "Beta is always analyzed with reference to some benchmark, generally the broad market index and the beta of the market is considered to be 1. For our case, we will take Nifty50 as the broad index for reference."
   ]
  },
  {
   "cell_type": "markdown",
   "metadata": {},
   "source": [
    "`Scenario Example`: Lets take a stock `ABC` for example. If it is said that beta of the stock is 1.5, then it means that the stock is 50% more volatile than the market (Nifty50). So if the intraday return of the market is a positive 10%, then the intraday return of stock would be 15%. In other words, the returns of stock will outperform the market by 50% and the alpha of stock would be 5%. And, if the market declines by 5%, then stock will decline by 7.5% or 50% more than the market. Stock's change in market value is multiplied by its beta to estimate its movement in future. Hence, stock ABC is a high beta stock.\n",
    "\n",
    "Similarly, if the beta of any stock is say 0.75, then it will be less volatile than the market. If the intraday gains of the market are 10%, a low-beta stock will gain only 7.5%. And, if the market declines by 5%, then the stock will decline by only 3.75%."
   ]
  },
  {
   "cell_type": "markdown",
   "metadata": {},
   "source": [
    "### Interpretation of Beta coefficient:\n",
    "\n",
    "- β = 1 exactly as volatile as the market\n",
    "- β > 1 more volatile than the market\n",
    "- 0 < β > 1 less volatile than the market\n",
    "- β = 0 uncorrelated to the market\n",
    "- β < 0 negatively correlated to the market"
   ]
  },
  {
   "cell_type": "code",
   "execution_count": null,
   "metadata": {},
   "outputs": [],
   "source": []
  }
 ],
 "metadata": {
  "language_info": {
   "name": "python"
  }
 },
 "nbformat": 4,
 "nbformat_minor": 2
}
